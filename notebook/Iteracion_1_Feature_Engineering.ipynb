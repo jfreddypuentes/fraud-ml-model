{
 "cells": [
  {
   "cell_type": "markdown",
   "metadata": {},
   "source": [
    "## Resumen"
   ]
  },
  {
   "cell_type": "markdown",
   "metadata": {},
   "source": [
    "El presente notebook tiene como objetivo realizar el análisis de **selección de features** para el modelo. \n",
    "El modelo a usar es **Regresión logistica** para determinar dos clases: fraude o no fraude dentro de los datos de aportes pensionales.\n",
    "\n",
    "La muestra de datos contiene un total de **100.000** registros.\n",
    "Para entrenamiento del modelo se usaran: 70.000 registros.\n",
    "Para evaluación del modelo se usaran: 30.000 registros."
   ]
  },
  {
   "cell_type": "code",
   "execution_count": 1,
   "metadata": {},
   "outputs": [],
   "source": [
    "import pandas as pd\n",
    "import matplotlib.pyplot as plt \n",
    "plt.rc(\"font\", size=14)\n",
    "import seaborn as sns\n",
    "sns.set(style=\"white\")\n",
    "sns.set(style=\"whitegrid\", color_codes=True)"
   ]
  },
  {
   "cell_type": "code",
   "execution_count": 2,
   "metadata": {},
   "outputs": [
    {
     "name": "stdout",
     "output_type": "stream",
     "text": [
      "(1495, 21)\n",
      "['tipo_persona', 'codigo_actividad_economica', 'tipo_identificacion', 'departamento', 'municipio', 'tarifa_pension', 'aporte_cot_obligatoria_pension', 'aporte_fsolid_pensional_solidaridad', 'aporte_fsolid_pensional_subsistencia', 'aporte_vol_afiliado', 'cot_vol_aportante', 'tarifa_salud', 'cot_obligatoria_salud', 'valor_upc_adicional', 'clase_riesgo', 'tipo_planilla', 'sexodesc', 'edad', 'tipo_cotizante', 'subtipo_cotizante', 'target']\n"
     ]
    }
   ],
   "source": [
    "data = pd.read_csv('data.csv', sep=';', header=0)\n",
    "data = data.dropna()\n",
    "print(data.shape)\n",
    "print(list(data.columns))"
   ]
  },
  {
   "cell_type": "markdown",
   "metadata": {},
   "source": [
    "### Encabezado"
   ]
  },
  {
   "cell_type": "code",
   "execution_count": 3,
   "metadata": {},
   "outputs": [
    {
     "data": {
      "text/html": [
       "<div>\n",
       "<style scoped>\n",
       "    .dataframe tbody tr th:only-of-type {\n",
       "        vertical-align: middle;\n",
       "    }\n",
       "\n",
       "    .dataframe tbody tr th {\n",
       "        vertical-align: top;\n",
       "    }\n",
       "\n",
       "    .dataframe thead th {\n",
       "        text-align: right;\n",
       "    }\n",
       "</style>\n",
       "<table border=\"1\" class=\"dataframe\">\n",
       "  <thead>\n",
       "    <tr style=\"text-align: right;\">\n",
       "      <th></th>\n",
       "      <th>tipo_persona</th>\n",
       "      <th>codigo_actividad_economica</th>\n",
       "      <th>tipo_identificacion</th>\n",
       "      <th>departamento</th>\n",
       "      <th>municipio</th>\n",
       "      <th>tarifa_pension</th>\n",
       "      <th>aporte_cot_obligatoria_pension</th>\n",
       "      <th>aporte_fsolid_pensional_solidaridad</th>\n",
       "      <th>aporte_fsolid_pensional_subsistencia</th>\n",
       "      <th>aporte_vol_afiliado</th>\n",
       "      <th>...</th>\n",
       "      <th>tarifa_salud</th>\n",
       "      <th>cot_obligatoria_salud</th>\n",
       "      <th>valor_upc_adicional</th>\n",
       "      <th>clase_riesgo</th>\n",
       "      <th>tipo_planilla</th>\n",
       "      <th>sexodesc</th>\n",
       "      <th>edad</th>\n",
       "      <th>tipo_cotizante</th>\n",
       "      <th>subtipo_cotizante</th>\n",
       "      <th>target</th>\n",
       "    </tr>\n",
       "  </thead>\n",
       "  <tbody>\n",
       "    <tr>\n",
       "      <th>0</th>\n",
       "      <td>N</td>\n",
       "      <td>7490</td>\n",
       "      <td>CC</td>\n",
       "      <td>11</td>\n",
       "      <td>1</td>\n",
       "      <td>16000</td>\n",
       "      <td>118100</td>\n",
       "      <td>0</td>\n",
       "      <td>0</td>\n",
       "      <td>0</td>\n",
       "      <td>...</td>\n",
       "      <td>12500</td>\n",
       "      <td>92300</td>\n",
       "      <td>0</td>\n",
       "      <td>0</td>\n",
       "      <td>I</td>\n",
       "      <td>FEMENINO</td>\n",
       "      <td>54</td>\n",
       "      <td>3</td>\n",
       "      <td>0</td>\n",
       "      <td>0</td>\n",
       "    </tr>\n",
       "    <tr>\n",
       "      <th>1</th>\n",
       "      <td>N</td>\n",
       "      <td>8299</td>\n",
       "      <td>CC</td>\n",
       "      <td>11</td>\n",
       "      <td>1</td>\n",
       "      <td>0</td>\n",
       "      <td>0</td>\n",
       "      <td>0</td>\n",
       "      <td>0</td>\n",
       "      <td>0</td>\n",
       "      <td>...</td>\n",
       "      <td>12500</td>\n",
       "      <td>92300</td>\n",
       "      <td>0</td>\n",
       "      <td>0</td>\n",
       "      <td>I</td>\n",
       "      <td>FEMENINO</td>\n",
       "      <td>74</td>\n",
       "      <td>3</td>\n",
       "      <td>3</td>\n",
       "      <td>0</td>\n",
       "    </tr>\n",
       "    <tr>\n",
       "      <th>2</th>\n",
       "      <td>J</td>\n",
       "      <td>125</td>\n",
       "      <td>CC</td>\n",
       "      <td>11</td>\n",
       "      <td>1</td>\n",
       "      <td>16000</td>\n",
       "      <td>118100</td>\n",
       "      <td>0</td>\n",
       "      <td>0</td>\n",
       "      <td>0</td>\n",
       "      <td>...</td>\n",
       "      <td>4000</td>\n",
       "      <td>29600</td>\n",
       "      <td>0</td>\n",
       "      <td>1</td>\n",
       "      <td>E</td>\n",
       "      <td>FEMENINO</td>\n",
       "      <td>45</td>\n",
       "      <td>1</td>\n",
       "      <td>0</td>\n",
       "      <td>0</td>\n",
       "    </tr>\n",
       "    <tr>\n",
       "      <th>3</th>\n",
       "      <td>N</td>\n",
       "      <td>4290</td>\n",
       "      <td>CC</td>\n",
       "      <td>63</td>\n",
       "      <td>130</td>\n",
       "      <td>16000</td>\n",
       "      <td>192000</td>\n",
       "      <td>0</td>\n",
       "      <td>0</td>\n",
       "      <td>0</td>\n",
       "      <td>...</td>\n",
       "      <td>12500</td>\n",
       "      <td>150000</td>\n",
       "      <td>0</td>\n",
       "      <td>3</td>\n",
       "      <td>I</td>\n",
       "      <td>MASCULINO</td>\n",
       "      <td>40</td>\n",
       "      <td>59</td>\n",
       "      <td>0</td>\n",
       "      <td>0</td>\n",
       "    </tr>\n",
       "    <tr>\n",
       "      <th>4</th>\n",
       "      <td>J</td>\n",
       "      <td>6910</td>\n",
       "      <td>CC</td>\n",
       "      <td>11</td>\n",
       "      <td>1</td>\n",
       "      <td>16000</td>\n",
       "      <td>63000</td>\n",
       "      <td>0</td>\n",
       "      <td>0</td>\n",
       "      <td>0</td>\n",
       "      <td>...</td>\n",
       "      <td>4000</td>\n",
       "      <td>15800</td>\n",
       "      <td>0</td>\n",
       "      <td>1</td>\n",
       "      <td>E</td>\n",
       "      <td>FEMENINO</td>\n",
       "      <td>49</td>\n",
       "      <td>1</td>\n",
       "      <td>0</td>\n",
       "      <td>0</td>\n",
       "    </tr>\n",
       "  </tbody>\n",
       "</table>\n",
       "<p>5 rows × 21 columns</p>\n",
       "</div>"
      ],
      "text/plain": [
       "  tipo_persona  codigo_actividad_economica tipo_identificacion  departamento  \\\n",
       "0            N                        7490                  CC            11   \n",
       "1            N                        8299                  CC            11   \n",
       "2            J                         125                  CC            11   \n",
       "3            N                        4290                  CC            63   \n",
       "4            J                        6910                  CC            11   \n",
       "\n",
       "   municipio  tarifa_pension  aporte_cot_obligatoria_pension  \\\n",
       "0          1           16000                          118100   \n",
       "1          1               0                               0   \n",
       "2          1           16000                          118100   \n",
       "3        130           16000                          192000   \n",
       "4          1           16000                           63000   \n",
       "\n",
       "   aporte_fsolid_pensional_solidaridad  aporte_fsolid_pensional_subsistencia  \\\n",
       "0                                    0                                     0   \n",
       "1                                    0                                     0   \n",
       "2                                    0                                     0   \n",
       "3                                    0                                     0   \n",
       "4                                    0                                     0   \n",
       "\n",
       "   aporte_vol_afiliado  ...  tarifa_salud  cot_obligatoria_salud  \\\n",
       "0                    0  ...         12500                  92300   \n",
       "1                    0  ...         12500                  92300   \n",
       "2                    0  ...          4000                  29600   \n",
       "3                    0  ...         12500                 150000   \n",
       "4                    0  ...          4000                  15800   \n",
       "\n",
       "   valor_upc_adicional  clase_riesgo  tipo_planilla   sexodesc edad  \\\n",
       "0                    0             0              I   FEMENINO   54   \n",
       "1                    0             0              I   FEMENINO   74   \n",
       "2                    0             1              E   FEMENINO   45   \n",
       "3                    0             3              I  MASCULINO   40   \n",
       "4                    0             1              E   FEMENINO   49   \n",
       "\n",
       "   tipo_cotizante  subtipo_cotizante  target  \n",
       "0               3                  0       0  \n",
       "1               3                  3       0  \n",
       "2               1                  0       0  \n",
       "3              59                  0       0  \n",
       "4               1                  0       0  \n",
       "\n",
       "[5 rows x 21 columns]"
      ]
     },
     "execution_count": 3,
     "metadata": {},
     "output_type": "execute_result"
    }
   ],
   "source": [
    "data.head()"
   ]
  },
  {
   "cell_type": "markdown",
   "metadata": {},
   "source": [
    "### Variable objetivo"
   ]
  },
  {
   "cell_type": "markdown",
   "metadata": {},
   "source": [
    "La variable objeto se llama **target** y representa fraude (cuando es 1) o no fraude (cuando es 0) en el aporte pensional."
   ]
  },
  {
   "cell_type": "code",
   "execution_count": 4,
   "metadata": {},
   "outputs": [
    {
     "data": {
      "text/plain": [
       "array([0, 1])"
      ]
     },
     "execution_count": 4,
     "metadata": {},
     "output_type": "execute_result"
    }
   ],
   "source": [
    "data['target'].unique()"
   ]
  },
  {
   "cell_type": "markdown",
   "metadata": {},
   "source": [
    "## Exploración de datos"
   ]
  },
  {
   "cell_type": "markdown",
   "metadata": {},
   "source": [
    "### target"
   ]
  },
  {
   "cell_type": "code",
   "execution_count": 6,
   "metadata": {},
   "outputs": [
    {
     "data": {
      "text/plain": [
       "0    1345\n",
       "1     150\n",
       "Name: target, dtype: int64"
      ]
     },
     "execution_count": 6,
     "metadata": {},
     "output_type": "execute_result"
    }
   ],
   "source": [
    "data['target'].value_counts()"
   ]
  },
  {
   "cell_type": "code",
   "execution_count": 9,
   "metadata": {},
   "outputs": [
    {
     "data": {
      "image/png": "[encoded data removed]",
      "text/plain": [
       "<Figure size 432x288 with 1 Axes>"
      ]
     },
     "metadata": {},
     "output_type": "display_data"
    },
    {
     "data": {
      "text/plain": [
       "<Figure size 432x288 with 0 Axes>"
      ]
     },
     "metadata": {},
     "output_type": "display_data"
    }
   ],
   "source": [
    "sns.countplot(x='target', data=data, palette='hls')\n",
    "plt.show()\n",
    "plt.savefig('count_plot')"
   ]
  },
  {
   "cell_type": "code",
   "execution_count": 14,
   "metadata": {},
   "outputs": [
    {
     "name": "stdout",
     "output_type": "stream",
     "text": [
      "Percentage of no fraud is 89.97%\n",
      "Percentage of fraud is 10.03%\n"
     ]
    }
   ],
   "source": [
    "count_no_fraud = len(data[data['target']==0])\n",
    "count_fraud = len(data[data['target']==1])\n",
    "pct_of_no_fraud = count_no_fraud/(count_no_fraud+count_fraud)\n",
    "pct_of_fraud = count_fraud/(count_no_fraud+count_fraud)\n",
    "\n",
    "print(\"Percentage of no fraud is {}%\".format(round(pct_of_no_fraud*100, 2)))\n",
    "print(\"Percentage of fraud is {}%\".format(round(pct_of_fraud*100, 2)))"
   ]
  },
  {
   "cell_type": "markdown",
   "metadata": {},
   "source": [
    "### Promedios agrupados por fraude-no fraude"
   ]
  },
  {
   "cell_type": "code",
   "execution_count": 17,
   "metadata": {},
   "outputs": [
    {
     "data": {
      "text/html": [
       "<div>\n",
       "<style scoped>\n",
       "    .dataframe tbody tr th:only-of-type {\n",
       "        vertical-align: middle;\n",
       "    }\n",
       "\n",
       "    .dataframe tbody tr th {\n",
       "        vertical-align: top;\n",
       "    }\n",
       "\n",
       "    .dataframe thead th {\n",
       "        text-align: right;\n",
       "    }\n",
       "</style>\n",
       "<table border=\"1\" class=\"dataframe\">\n",
       "  <thead>\n",
       "    <tr style=\"text-align: right;\">\n",
       "      <th></th>\n",
       "      <th>codigo_actividad_economica</th>\n",
       "      <th>departamento</th>\n",
       "      <th>municipio</th>\n",
       "      <th>tarifa_pension</th>\n",
       "      <th>aporte_cot_obligatoria_pension</th>\n",
       "      <th>aporte_fsolid_pensional_solidaridad</th>\n",
       "      <th>aporte_fsolid_pensional_subsistencia</th>\n",
       "      <th>aporte_vol_afiliado</th>\n",
       "      <th>cot_vol_aportante</th>\n",
       "      <th>tarifa_salud</th>\n",
       "      <th>cot_obligatoria_salud</th>\n",
       "      <th>valor_upc_adicional</th>\n",
       "      <th>clase_riesgo</th>\n",
       "      <th>edad</th>\n",
       "      <th>tipo_cotizante</th>\n",
       "      <th>subtipo_cotizante</th>\n",
       "    </tr>\n",
       "    <tr>\n",
       "      <th>target</th>\n",
       "      <th></th>\n",
       "      <th></th>\n",
       "      <th></th>\n",
       "      <th></th>\n",
       "      <th></th>\n",
       "      <th></th>\n",
       "      <th></th>\n",
       "      <th></th>\n",
       "      <th></th>\n",
       "      <th></th>\n",
       "      <th></th>\n",
       "      <th></th>\n",
       "      <th></th>\n",
       "      <th></th>\n",
       "      <th></th>\n",
       "      <th></th>\n",
       "    </tr>\n",
       "  </thead>\n",
       "  <tbody>\n",
       "    <tr>\n",
       "      <th>0</th>\n",
       "      <td>5688.410409</td>\n",
       "      <td>26.87658</td>\n",
       "      <td>122.999257</td>\n",
       "      <td>12358.364312</td>\n",
       "      <td>328298.289963</td>\n",
       "      <td>7390.334572</td>\n",
       "      <td>14506.245353</td>\n",
       "      <td>0.0</td>\n",
       "      <td>0.0</td>\n",
       "      <td>7742.379182</td>\n",
       "      <td>223064.535316</td>\n",
       "      <td>733.977695</td>\n",
       "      <td>1.748699</td>\n",
       "      <td>43.828253</td>\n",
       "      <td>7.263197</td>\n",
       "      <td>0.377695</td>\n",
       "    </tr>\n",
       "    <tr>\n",
       "      <th>1</th>\n",
       "      <td>5950.300000</td>\n",
       "      <td>36.88000</td>\n",
       "      <td>352.206667</td>\n",
       "      <td>10346.666667</td>\n",
       "      <td>95193.333333</td>\n",
       "      <td>1138.000000</td>\n",
       "      <td>1474.666667</td>\n",
       "      <td>0.0</td>\n",
       "      <td>0.0</td>\n",
       "      <td>6786.666667</td>\n",
       "      <td>59665.333333</td>\n",
       "      <td>0.000000</td>\n",
       "      <td>1.860000</td>\n",
       "      <td>36.646667</td>\n",
       "      <td>4.220000</td>\n",
       "      <td>1.440000</td>\n",
       "    </tr>\n",
       "  </tbody>\n",
       "</table>\n",
       "</div>"
      ],
      "text/plain": [
       "        codigo_actividad_economica  departamento   municipio  tarifa_pension  \\\n",
       "target                                                                         \n",
       "0                      5688.410409      26.87658  122.999257    12358.364312   \n",
       "1                      5950.300000      36.88000  352.206667    10346.666667   \n",
       "\n",
       "        aporte_cot_obligatoria_pension  aporte_fsolid_pensional_solidaridad  \\\n",
       "target                                                                        \n",
       "0                        328298.289963                          7390.334572   \n",
       "1                         95193.333333                          1138.000000   \n",
       "\n",
       "        aporte_fsolid_pensional_subsistencia  aporte_vol_afiliado  \\\n",
       "target                                                              \n",
       "0                               14506.245353                  0.0   \n",
       "1                                1474.666667                  0.0   \n",
       "\n",
       "        cot_vol_aportante  tarifa_salud  cot_obligatoria_salud  \\\n",
       "target                                                           \n",
       "0                     0.0   7742.379182          223064.535316   \n",
       "1                     0.0   6786.666667           59665.333333   \n",
       "\n",
       "        valor_upc_adicional  clase_riesgo       edad  tipo_cotizante  \\\n",
       "target                                                                 \n",
       "0                733.977695      1.748699  43.828253        7.263197   \n",
       "1                  0.000000      1.860000  36.646667        4.220000   \n",
       "\n",
       "        subtipo_cotizante  \n",
       "target                     \n",
       "0                0.377695  \n",
       "1                1.440000  "
      ]
     },
     "execution_count": 17,
     "metadata": {},
     "output_type": "execute_result"
    }
   ],
   "source": [
    "data.groupby('target').mean()"
   ]
  },
  {
   "cell_type": "markdown",
   "metadata": {},
   "source": [
    "#### Observaciones:"
   ]
  },
  {
   "cell_type": "markdown",
   "metadata": {},
   "source": [
    "* El promedio del aporte de cotización obligatoria a pensión es 3 veces menor para los fradulentos que el aporte de los no fraudulentos. \n",
    "* El promedio del aporte a salud de los fraudulentos es 3.7 veces menor que el aporte de quienes no cometen fraude.\n",
    "* El promedio de edad de los aportantes que cometen fraude es de 36.6 años.\n",
    "* El promedio de edad de los aportantes que NO cometen fraude es de 43.8 años."
   ]
  },
  {
   "cell_type": "markdown",
   "metadata": {},
   "source": [
    "### Promedios agrupados por departamento"
   ]
  },
  {
   "cell_type": "code",
   "execution_count": 19,
   "metadata": {},
   "outputs": [
    {
     "data": {
      "text/html": [
       "<div>\n",
       "<style scoped>\n",
       "    .dataframe tbody tr th:only-of-type {\n",
       "        vertical-align: middle;\n",
       "    }\n",
       "\n",
       "    .dataframe tbody tr th {\n",
       "        vertical-align: top;\n",
       "    }\n",
       "\n",
       "    .dataframe thead th {\n",
       "        text-align: right;\n",
       "    }\n",
       "</style>\n",
       "<table border=\"1\" class=\"dataframe\">\n",
       "  <thead>\n",
       "    <tr style=\"text-align: right;\">\n",
       "      <th></th>\n",
       "      <th>codigo_actividad_economica</th>\n",
       "      <th>departamento</th>\n",
       "      <th>municipio</th>\n",
       "      <th>tarifa_pension</th>\n",
       "      <th>aporte_cot_obligatoria_pension</th>\n",
       "      <th>aporte_fsolid_pensional_solidaridad</th>\n",
       "      <th>aporte_fsolid_pensional_subsistencia</th>\n",
       "      <th>aporte_vol_afiliado</th>\n",
       "      <th>cot_vol_aportante</th>\n",
       "      <th>tarifa_salud</th>\n",
       "      <th>cot_obligatoria_salud</th>\n",
       "      <th>valor_upc_adicional</th>\n",
       "      <th>clase_riesgo</th>\n",
       "      <th>edad</th>\n",
       "      <th>tipo_cotizante</th>\n",
       "      <th>subtipo_cotizante</th>\n",
       "      <th>target</th>\n",
       "    </tr>\n",
       "    <tr>\n",
       "      <th>tipo_persona</th>\n",
       "      <th></th>\n",
       "      <th></th>\n",
       "      <th></th>\n",
       "      <th></th>\n",
       "      <th></th>\n",
       "      <th></th>\n",
       "      <th></th>\n",
       "      <th></th>\n",
       "      <th></th>\n",
       "      <th></th>\n",
       "      <th></th>\n",
       "      <th></th>\n",
       "      <th></th>\n",
       "      <th></th>\n",
       "      <th></th>\n",
       "      <th></th>\n",
       "      <th></th>\n",
       "    </tr>\n",
       "  </thead>\n",
       "  <tbody>\n",
       "    <tr>\n",
       "      <th>J</th>\n",
       "      <td>5377.545855</td>\n",
       "      <td>28.595238</td>\n",
       "      <td>145.848325</td>\n",
       "      <td>12425.044092</td>\n",
       "      <td>368616.402116</td>\n",
       "      <td>8729.188713</td>\n",
       "      <td>17051.058201</td>\n",
       "      <td>0.0</td>\n",
       "      <td>0.0</td>\n",
       "      <td>7305.996473</td>\n",
       "      <td>237171.604938</td>\n",
       "      <td>0.000000</td>\n",
       "      <td>2.136684</td>\n",
       "      <td>41.076720</td>\n",
       "      <td>2.727513</td>\n",
       "      <td>0.325397</td>\n",
       "      <td>0.111993</td>\n",
       "    </tr>\n",
       "    <tr>\n",
       "      <th>N</th>\n",
       "      <td>6773.739612</td>\n",
       "      <td>25.634349</td>\n",
       "      <td>146.462604</td>\n",
       "      <td>11313.019391</td>\n",
       "      <td>104790.027701</td>\n",
       "      <td>586.703601</td>\n",
       "      <td>1097.506925</td>\n",
       "      <td>0.0</td>\n",
       "      <td>0.0</td>\n",
       "      <td>8716.066482</td>\n",
       "      <td>110855.955679</td>\n",
       "      <td>2734.626039</td>\n",
       "      <td>0.576177</td>\n",
       "      <td>49.487535</td>\n",
       "      <td>20.246537</td>\n",
       "      <td>0.983380</td>\n",
       "      <td>0.063712</td>\n",
       "    </tr>\n",
       "  </tbody>\n",
       "</table>\n",
       "</div>"
      ],
      "text/plain": [
       "              codigo_actividad_economica  departamento   municipio  \\\n",
       "tipo_persona                                                         \n",
       "J                            5377.545855     28.595238  145.848325   \n",
       "N                            6773.739612     25.634349  146.462604   \n",
       "\n",
       "              tarifa_pension  aporte_cot_obligatoria_pension  \\\n",
       "tipo_persona                                                   \n",
       "J               12425.044092                   368616.402116   \n",
       "N               11313.019391                   104790.027701   \n",
       "\n",
       "              aporte_fsolid_pensional_solidaridad  \\\n",
       "tipo_persona                                        \n",
       "J                                     8729.188713   \n",
       "N                                      586.703601   \n",
       "\n",
       "              aporte_fsolid_pensional_subsistencia  aporte_vol_afiliado  \\\n",
       "tipo_persona                                                              \n",
       "J                                     17051.058201                  0.0   \n",
       "N                                      1097.506925                  0.0   \n",
       "\n",
       "              cot_vol_aportante  tarifa_salud  cot_obligatoria_salud  \\\n",
       "tipo_persona                                                           \n",
       "J                           0.0   7305.996473          237171.604938   \n",
       "N                           0.0   8716.066482          110855.955679   \n",
       "\n",
       "              valor_upc_adicional  clase_riesgo       edad  tipo_cotizante  \\\n",
       "tipo_persona                                                                 \n",
       "J                        0.000000      2.136684  41.076720        2.727513   \n",
       "N                     2734.626039      0.576177  49.487535       20.246537   \n",
       "\n",
       "              subtipo_cotizante    target  \n",
       "tipo_persona                               \n",
       "J                      0.325397  0.111993  \n",
       "N                      0.983380  0.063712  "
      ]
     },
     "execution_count": 19,
     "metadata": {},
     "output_type": "execute_result"
    }
   ],
   "source": [
    "data.groupby('tipo_persona').mean()"
   ]
  },
  {
   "cell_type": "markdown",
   "metadata": {},
   "source": [
    "#### Observaciones"
   ]
  },
  {
   "cell_type": "markdown",
   "metadata": {},
   "source": [
    "* La mayoria de fraude se concentra en los tipos de de persona **Juridica**\n",
    "* El promedio de edad de la persona Juridica es de 41 años. Mientras que para Natural es de 49.4 años.\n",
    "* El aporte obligatorio a pensión de las personas Juridicas es 3.5 veces mayor al aporte de las personas naturales."
   ]
  },
  {
   "cell_type": "markdown",
   "metadata": {},
   "source": [
    "### Promedios agrupados por género"
   ]
  },
  {
   "cell_type": "code",
   "execution_count": 21,
   "metadata": {},
   "outputs": [
    {
     "data": {
      "text/html": [
       "<div>\n",
       "<style scoped>\n",
       "    .dataframe tbody tr th:only-of-type {\n",
       "        vertical-align: middle;\n",
       "    }\n",
       "\n",
       "    .dataframe tbody tr th {\n",
       "        vertical-align: top;\n",
       "    }\n",
       "\n",
       "    .dataframe thead th {\n",
       "        text-align: right;\n",
       "    }\n",
       "</style>\n",
       "<table border=\"1\" class=\"dataframe\">\n",
       "  <thead>\n",
       "    <tr style=\"text-align: right;\">\n",
       "      <th></th>\n",
       "      <th>codigo_actividad_economica</th>\n",
       "      <th>departamento</th>\n",
       "      <th>municipio</th>\n",
       "      <th>tarifa_pension</th>\n",
       "      <th>aporte_cot_obligatoria_pension</th>\n",
       "      <th>aporte_fsolid_pensional_solidaridad</th>\n",
       "      <th>aporte_fsolid_pensional_subsistencia</th>\n",
       "      <th>aporte_vol_afiliado</th>\n",
       "      <th>cot_vol_aportante</th>\n",
       "      <th>tarifa_salud</th>\n",
       "      <th>cot_obligatoria_salud</th>\n",
       "      <th>valor_upc_adicional</th>\n",
       "      <th>clase_riesgo</th>\n",
       "      <th>edad</th>\n",
       "      <th>tipo_cotizante</th>\n",
       "      <th>subtipo_cotizante</th>\n",
       "      <th>target</th>\n",
       "    </tr>\n",
       "    <tr>\n",
       "      <th>sexodesc</th>\n",
       "      <th></th>\n",
       "      <th></th>\n",
       "      <th></th>\n",
       "      <th></th>\n",
       "      <th></th>\n",
       "      <th></th>\n",
       "      <th></th>\n",
       "      <th></th>\n",
       "      <th></th>\n",
       "      <th></th>\n",
       "      <th></th>\n",
       "      <th></th>\n",
       "      <th></th>\n",
       "      <th></th>\n",
       "      <th></th>\n",
       "      <th></th>\n",
       "      <th></th>\n",
       "    </tr>\n",
       "  </thead>\n",
       "  <tbody>\n",
       "    <tr>\n",
       "      <th>FEMENINO</th>\n",
       "      <td>5994.949254</td>\n",
       "      <td>21.431343</td>\n",
       "      <td>134.117910</td>\n",
       "      <td>12089.552239</td>\n",
       "      <td>322498.208955</td>\n",
       "      <td>7774.179104</td>\n",
       "      <td>15051.791045</td>\n",
       "      <td>0.0</td>\n",
       "      <td>0.0</td>\n",
       "      <td>8088.805970</td>\n",
       "      <td>239310.298507</td>\n",
       "      <td>921.044776</td>\n",
       "      <td>1.202985</td>\n",
       "      <td>42.582090</td>\n",
       "      <td>8.428358</td>\n",
       "      <td>0.485075</td>\n",
       "      <td>0.094030</td>\n",
       "    </tr>\n",
       "    <tr>\n",
       "      <th>MASCULINO</th>\n",
       "      <td>5487.080000</td>\n",
       "      <td>33.117576</td>\n",
       "      <td>155.643636</td>\n",
       "      <td>12210.909091</td>\n",
       "      <td>290625.939394</td>\n",
       "      <td>5941.818182</td>\n",
       "      <td>11693.818182</td>\n",
       "      <td>0.0</td>\n",
       "      <td>0.0</td>\n",
       "      <td>7287.272727</td>\n",
       "      <td>180162.060606</td>\n",
       "      <td>448.606061</td>\n",
       "      <td>2.212121</td>\n",
       "      <td>43.534545</td>\n",
       "      <td>5.763636</td>\n",
       "      <td>0.483636</td>\n",
       "      <td>0.105455</td>\n",
       "    </tr>\n",
       "  </tbody>\n",
       "</table>\n",
       "</div>"
      ],
      "text/plain": [
       "           codigo_actividad_economica  departamento   municipio  \\\n",
       "sexodesc                                                          \n",
       "FEMENINO                  5994.949254     21.431343  134.117910   \n",
       "MASCULINO                 5487.080000     33.117576  155.643636   \n",
       "\n",
       "           tarifa_pension  aporte_cot_obligatoria_pension  \\\n",
       "sexodesc                                                    \n",
       "FEMENINO     12089.552239                   322498.208955   \n",
       "MASCULINO    12210.909091                   290625.939394   \n",
       "\n",
       "           aporte_fsolid_pensional_solidaridad  \\\n",
       "sexodesc                                         \n",
       "FEMENINO                           7774.179104   \n",
       "MASCULINO                          5941.818182   \n",
       "\n",
       "           aporte_fsolid_pensional_subsistencia  aporte_vol_afiliado  \\\n",
       "sexodesc                                                               \n",
       "FEMENINO                           15051.791045                  0.0   \n",
       "MASCULINO                          11693.818182                  0.0   \n",
       "\n",
       "           cot_vol_aportante  tarifa_salud  cot_obligatoria_salud  \\\n",
       "sexodesc                                                            \n",
       "FEMENINO                 0.0   8088.805970          239310.298507   \n",
       "MASCULINO                0.0   7287.272727          180162.060606   \n",
       "\n",
       "           valor_upc_adicional  clase_riesgo       edad  tipo_cotizante  \\\n",
       "sexodesc                                                                  \n",
       "FEMENINO            921.044776      1.202985  42.582090        8.428358   \n",
       "MASCULINO           448.606061      2.212121  43.534545        5.763636   \n",
       "\n",
       "           subtipo_cotizante    target  \n",
       "sexodesc                                \n",
       "FEMENINO            0.485075  0.094030  \n",
       "MASCULINO           0.483636  0.105455  "
      ]
     },
     "execution_count": 21,
     "metadata": {},
     "output_type": "execute_result"
    }
   ],
   "source": [
    "data.groupby('sexodesc').mean()"
   ]
  },
  {
   "cell_type": "markdown",
   "metadata": {},
   "source": [
    "#### Observaciones:"
   ]
  },
  {
   "cell_type": "markdown",
   "metadata": {},
   "source": [
    "* El promedio del valor de la pensión obligatoria para Mujeres es de **322.498** mientras que para los Hombres es de **290.625**\n",
    "* El promedio de edad de las mujeres aportantes es de **42.5 años**, mientras que para los hombres es de **43.5 años**."
   ]
  },
  {
   "cell_type": "markdown",
   "metadata": {},
   "source": [
    "## Visualizaciones"
   ]
  },
  {
   "cell_type": "markdown",
   "metadata": {},
   "source": [
    "### ► tipo_persona •"
   ]
  },
  {
   "cell_type": "code",
   "execution_count": 23,
   "metadata": {},
   "outputs": [
    {
     "data": {
      "text/plain": [
       "Text(0, 0.5, 'Frecuencia de fraude')"
      ]
     },
     "execution_count": 23,
     "metadata": {},
     "output_type": "execute_result"
    },
    {
     "data": {
      "image/png": "[encoded data removed]",
      "text/plain": [
       "<Figure size 432x288 with 1 Axes>"
      ]
     },
     "metadata": {
      "needs_background": "light"
     },
     "output_type": "display_data"
    }
   ],
   "source": [
    "%matplotlib inline\n",
    "pd.crosstab(data.tipo_persona,data.target).plot(kind='bar')\n",
    "plt.title('Frecuencia de fraude segun el tipo de persona')\n",
    "plt.xlabel('Tipo de Persona')\n",
    "plt.ylabel('Frecuencia de fraude')"
   ]
  },
  {
   "cell_type": "markdown",
   "metadata": {},
   "source": [
    "#### Observaciones:"
   ]
  },
  {
   "cell_type": "markdown",
   "metadata": {},
   "source": [
    "* Hay influencia positiva y negativa en lo niveles de fraude segun el tipo de persona.\n",
    "* El tipo de persona puede ser un buen predictor de fraude."
   ]
  },
  {
   "cell_type": "markdown",
   "metadata": {},
   "source": [
    "### ► codigo_actividad_economica •"
   ]
  },
  {
   "cell_type": "code",
   "execution_count": 31,
   "metadata": {},
   "outputs": [
    {
     "data": {
      "text/plain": [
       "142"
      ]
     },
     "execution_count": 31,
     "metadata": {},
     "output_type": "execute_result"
    }
   ],
   "source": [
    "len(list(data.codigo_actividad_economica.unique()))"
   ]
  },
  {
   "cell_type": "code",
   "execution_count": 42,
   "metadata": {},
   "outputs": [
    {
     "data": {
      "text/plain": [
       "Text(0, 0.5, 'Proporción Fraude')"
      ]
     },
     "execution_count": 42,
     "metadata": {},
     "output_type": "execute_result"
    },
    {
     "data": {
      "image/png": "[encoded data removed]",
      "text/plain": [
       "<Figure size 432x288 with 1 Axes>"
      ]
     },
     "metadata": {
      "needs_background": "light"
     },
     "output_type": "display_data"
    }
   ],
   "source": [
    "%matplotlib inline\n",
    "table = pd.crosstab(data.codigo_actividad_economica[1000:], data.target)\n",
    "table.div(table.sum(1).astype(float), axis=0).plot(kind='bar', stacked=True)\n",
    "plt.title('Actividad Económica VS Fraude')\n",
    "plt.xlabel('Actividad Económica')\n",
    "plt.ylabel('Proporción Fraude')"
   ]
  },
  {
   "cell_type": "markdown",
   "metadata": {},
   "source": [
    "#### Observaciones:"
   ]
  },
  {
   "cell_type": "markdown",
   "metadata": {},
   "source": [
    "* La actividad económica influye en en fraude.\n",
    "* Puede ser un buen predictor."
   ]
  },
  {
   "cell_type": "markdown",
   "metadata": {},
   "source": [
    "### ► tipo_identificacion"
   ]
  },
  {
   "cell_type": "code",
   "execution_count": 43,
   "metadata": {},
   "outputs": [
    {
     "data": {
      "text/plain": [
       "Text(0, 0.5, 'Frecuencia de fraude')"
      ]
     },
     "execution_count": 43,
     "metadata": {},
     "output_type": "execute_result"
    },
    {
     "data": {
      "image/png": "[encoded data removed]",
      "text/plain": [
       "<Figure size 432x288 with 1 Axes>"
      ]
     },
     "metadata": {
      "needs_background": "light"
     },
     "output_type": "display_data"
    }
   ],
   "source": [
    "%matplotlib inline\n",
    "pd.crosstab(data.tipo_identificacion, data.target).plot(kind='bar')\n",
    "plt.title('Frecuencia de fraude segun el tipo de identificación')\n",
    "plt.xlabel('Tipo de Persona')\n",
    "plt.ylabel('Frecuencia de fraude')"
   ]
  },
  {
   "cell_type": "code",
   "execution_count": 46,
   "metadata": {},
   "outputs": [
    {
     "data": {
      "text/plain": [
       "CC    1483\n",
       "CE       6\n",
       "TI       4\n",
       "RC       2\n",
       "Name: tipo_identificacion, dtype: int64"
      ]
     },
     "execution_count": 46,
     "metadata": {},
     "output_type": "execute_result"
    }
   ],
   "source": [
    "data['tipo_identificacion'].value_counts()"
   ]
  },
  {
   "cell_type": "code",
   "execution_count": 44,
   "metadata": {},
   "outputs": [
    {
     "data": {
      "image/png": "[encoded data removed]",
      "text/plain": [
       "<Figure size 432x288 with 1 Axes>"
      ]
     },
     "metadata": {
      "needs_background": "light"
     },
     "output_type": "display_data"
    },
    {
     "data": {
      "text/plain": [
       "<Figure size 432x288 with 0 Axes>"
      ]
     },
     "metadata": {},
     "output_type": "display_data"
    }
   ],
   "source": [
    "sns.countplot(x='tipo_identificacion', data=data, palette='hls')\n",
    "plt.show()\n",
    "plt.savefig('count_plot')"
   ]
  },
  {
   "cell_type": "markdown",
   "metadata": {},
   "source": [
    "#### Observaciones:"
   ]
  },
  {
   "cell_type": "markdown",
   "metadata": {},
   "source": [
    "* 12 registros de aporte pensional no son CC.\n",
    "* Parece ser que **Tipo de Identificación** no es un buen predictor. Se puede ignorar este feature para que no ingrese al modelo."
   ]
  },
  {
   "cell_type": "markdown",
   "metadata": {},
   "source": [
    "### ► Departamento y Municipio"
   ]
  },
  {
   "cell_type": "code",
   "execution_count": 53,
   "metadata": {},
   "outputs": [
    {
     "name": "stdout",
     "output_type": "stream",
     "text": [
      "Hay 29 departamentos.\n"
     ]
    }
   ],
   "source": [
    "print(\"Hay {} departamentos.\".format(len(list(data.departamento.unique()))))"
   ]
  },
  {
   "cell_type": "code",
   "execution_count": 55,
   "metadata": {},
   "outputs": [
    {
     "data": {
      "text/plain": [
       "Text(0, 0.5, 'Frecuencia de fraude')"
      ]
     },
     "execution_count": 55,
     "metadata": {},
     "output_type": "execute_result"
    },
    {
     "data": {
      "image/png": "[encoded data removed]",
      "text/plain": [
       "<Figure size 432x288 with 1 Axes>"
      ]
     },
     "metadata": {
      "needs_background": "light"
     },
     "output_type": "display_data"
    }
   ],
   "source": [
    "%matplotlib inline\n",
    "pd.crosstab(data.departamento, data.target).plot(kind='bar')\n",
    "plt.title('Frecuencia de fraude segun el departamento')\n",
    "plt.xlabel('Departamento')\n",
    "plt.ylabel('Frecuencia de fraude')"
   ]
  },
  {
   "cell_type": "markdown",
   "metadata": {},
   "source": [
    "#### Observaciones:"
   ]
  },
  {
   "cell_type": "markdown",
   "metadata": {},
   "source": [
    "* El departamento no tiene influencia o relación directa con el fraude.\n",
    "* Los departamento con mayor fraude son el 11, 76 y 5."
   ]
  },
  {
   "cell_type": "markdown",
   "metadata": {},
   "source": [
    "### ► tarifa_pension"
   ]
  },
  {
   "cell_type": "code",
   "execution_count": 62,
   "metadata": {},
   "outputs": [
    {
     "data": {
      "text/plain": [
       "Text(0, 0.5, 'Frecuencia de fraude')"
      ]
     },
     "execution_count": 62,
     "metadata": {},
     "output_type": "execute_result"
    },
    {
     "data": {
      "image/png": "[encoded data removed]",
      "text/plain": [
       "<Figure size 432x288 with 1 Axes>"
      ]
     },
     "metadata": {
      "needs_background": "light"
     },
     "output_type": "display_data"
    }
   ],
   "source": [
    "pd.crosstab(data.tarifa_pension, data.target).plot(kind='bar')\n",
    "plt.title('Frecuencia de fraude según la tarifa pensional')\n",
    "plt.xlabel('Tarifa Pensión')\n",
    "plt.ylabel('Frecuencia de fraude')"
   ]
  },
  {
   "cell_type": "markdown",
   "metadata": {},
   "source": [
    "#### Observaciones:"
   ]
  },
  {
   "cell_type": "markdown",
   "metadata": {},
   "source": [
    "* El fraude y no fraude se concentran en las tarifas con valor **0** y **16.000**\n",
    "* Parace que no es un buen predictor."
   ]
  },
  {
   "cell_type": "code",
   "execution_count": 65,
   "metadata": {},
   "outputs": [
    {
     "data": {
      "text/plain": [
       "16000    1133\n",
       "0         358\n",
       "4000        2\n",
       "12000       1\n",
       "26000       1\n",
       "Name: tarifa_pension, dtype: int64"
      ]
     },
     "execution_count": 65,
     "metadata": {},
     "output_type": "execute_result"
    }
   ],
   "source": [
    "data['tarifa_pension'].value_counts()"
   ]
  },
  {
   "cell_type": "markdown",
   "metadata": {},
   "source": [
    "### ► aporte_cot_obligatoria_pension"
   ]
  },
  {
   "cell_type": "code",
   "execution_count": 70,
   "metadata": {},
   "outputs": [
    {
     "data": {
      "text/plain": [
       "Text(0, 0.5, 'Frecuencia de fraude')"
      ]
     },
     "execution_count": 70,
     "metadata": {},
     "output_type": "execute_result"
    },
    {
     "data": {
      "image/png": "[encoded data removed]",
      "text/plain": [
       "<Figure size 432x288 with 1 Axes>"
      ]
     },
     "metadata": {
      "needs_background": "light"
     },
     "output_type": "display_data"
    }
   ],
   "source": [
    "pd.crosstab(data.aporte_cot_obligatoria_pension, data.target).plot(kind='bar')\n",
    "plt.title('Frecuencia de fraude según la tarifa pensional')\n",
    "plt.xlabel('Tarifa Pensión')\n",
    "plt.ylabel('Frecuencia de fraude')"
   ]
  },
  {
   "cell_type": "markdown",
   "metadata": {},
   "source": [
    "#### Observaciones:"
   ]
  },
  {
   "cell_type": "markdown",
   "metadata": {},
   "source": [
    "* No hay relación clara del aporte obligatorio a pensión con el fraude o no fraude.\n",
    "* No es un buen predictor. Se descartará del input del modelo."
   ]
  },
  {
   "cell_type": "markdown",
   "metadata": {},
   "source": [
    "### ► aporte_fsolid_pensional_solidaridad"
   ]
  },
  {
   "cell_type": "code",
   "execution_count": 71,
   "metadata": {},
   "outputs": [
    {
     "data": {
      "text/plain": [
       "0        1234\n",
       "92300      20\n",
       "20200       7\n",
       "74400       6\n",
       "43600       6\n",
       "         ... \n",
       "5500        1\n",
       "7600        1\n",
       "19900       1\n",
       "5600        1\n",
       "23600       1\n",
       "Name: aporte_fsolid_pensional_solidaridad, Length: 161, dtype: int64"
      ]
     },
     "execution_count": 71,
     "metadata": {},
     "output_type": "execute_result"
    }
   ],
   "source": [
    "data['aporte_fsolid_pensional_solidaridad'].value_counts()"
   ]
  },
  {
   "cell_type": "code",
   "execution_count": 74,
   "metadata": {},
   "outputs": [
    {
     "data": {
      "text/plain": [
       "Text(0, 0.5, 'Frecuencia de Fraude')"
      ]
     },
     "execution_count": 74,
     "metadata": {},
     "output_type": "execute_result"
    },
    {
     "data": {
      "image/png": "[encoded data removed]",
      "text/plain": [
       "<Figure size 432x288 with 1 Axes>"
      ]
     },
     "metadata": {
      "needs_background": "light"
     },
     "output_type": "display_data"
    }
   ],
   "source": [
    "pd.crosstab(data.aporte_fsolid_pensional_solidaridad, data.target).plot(kind='bar')\n",
    "plt.title('Frecuencia de fraude según el aporte solidaridad')\n",
    "plt.xlabel('Aporte Solidaridad')\n",
    "plt.ylabel('Frecuencia de Fraude')"
   ]
  },
  {
   "cell_type": "markdown",
   "metadata": {},
   "source": [
    "#### Observaciones:"
   ]
  },
  {
   "cell_type": "markdown",
   "metadata": {},
   "source": [
    "* El aporte de solidaridad no tiene influencia en el fraude.\n",
    "* El aporte de solidaridad no es un buen predictor del fraude."
   ]
  },
  {
   "cell_type": "markdown",
   "metadata": {},
   "source": [
    "### ► clase_riesgo •"
   ]
  },
  {
   "cell_type": "code",
   "execution_count": 77,
   "metadata": {},
   "outputs": [
    {
     "data": {
      "text/plain": [
       "Text(0, 0.5, 'Frecuencia de Fraude')"
      ]
     },
     "execution_count": 77,
     "metadata": {},
     "output_type": "execute_result"
    },
    {
     "data": {
      "image/png": "[encoded data removed]",
      "text/plain": [
       "<Figure size 432x288 with 1 Axes>"
      ]
     },
     "metadata": {
      "needs_background": "light"
     },
     "output_type": "display_data"
    }
   ],
   "source": [
    "pd.crosstab(data.clase_riesgo, data.target).plot(kind='bar')\n",
    "plt.title('Frecuencia de fraude según la clase de riesgo')\n",
    "plt.xlabel('Clase de riesgo')\n",
    "plt.ylabel('Frecuencia de Fraude')"
   ]
  },
  {
   "cell_type": "markdown",
   "metadata": {},
   "source": [
    "* La clase de riesgo puede ser un buen predictor del fraude.\n",
    "* La mayor cantidad de fraude se presenta en la clase de riesgo 1."
   ]
  },
  {
   "cell_type": "markdown",
   "metadata": {},
   "source": [
    "### ► tipo_planilla •"
   ]
  },
  {
   "cell_type": "code",
   "execution_count": 4,
   "metadata": {
    "scrolled": true
   },
   "outputs": [
    {
     "data": {
      "text/plain": [
       "Text(0, 0.5, 'Frecuencia de Fraude')"
      ]
     },
     "execution_count": 4,
     "metadata": {},
     "output_type": "execute_result"
    },
    {
     "data": {
      "image/png": "[encoded data removed]",
      "text/plain": [
       "<Figure size 432x288 with 1 Axes>"
      ]
     },
     "metadata": {
      "needs_background": "light"
     },
     "output_type": "display_data"
    }
   ],
   "source": [
    "pd.crosstab(data.tipo_planilla, data.target).plot(kind='bar')\n",
    "plt.title('Frecuencia de fraude según el tipo de planilla')\n",
    "plt.xlabel('Tipo de planilla')\n",
    "plt.ylabel('Frecuencia de Fraude')"
   ]
  },
  {
   "cell_type": "code",
   "execution_count": 79,
   "metadata": {},
   "outputs": [
    {
     "data": {
      "text/plain": [
       "E    1143\n",
       "I     322\n",
       "S      19\n",
       "Y       6\n",
       "N       2\n",
       "H       2\n",
       "J       1\n",
       "Name: tipo_planilla, dtype: int64"
      ]
     },
     "execution_count": 79,
     "metadata": {},
     "output_type": "execute_result"
    }
   ],
   "source": [
    "data['tipo_planilla'].value_counts()"
   ]
  },
  {
   "cell_type": "markdown",
   "metadata": {},
   "source": [
    "#### Observaciones:"
   ]
  },
  {
   "cell_type": "markdown",
   "metadata": {},
   "source": [
    "* El fraude se concentra en el uso de los tipos de planilla **E** e **I**\n",
    "* Puede ser un buen predictor del fraude."
   ]
  },
  {
   "cell_type": "markdown",
   "metadata": {},
   "source": [
    "### ► sexodesc"
   ]
  },
  {
   "cell_type": "code",
   "execution_count": 5,
   "metadata": {},
   "outputs": [
    {
     "data": {
      "text/plain": [
       "Text(0, 0.5, 'Frecuencia de Fraude')"
      ]
     },
     "execution_count": 5,
     "metadata": {},
     "output_type": "execute_result"
    },
    {
     "data": {
      "image/png": "[encoded data removed]",
      "text/plain": [
       "<Figure size 432x288 with 1 Axes>"
      ]
     },
     "metadata": {
      "needs_background": "light"
     },
     "output_type": "display_data"
    }
   ],
   "source": [
    "pd.crosstab(data.sexodesc, data.target).plot(kind='bar')\n",
    "plt.title('Frecuencia de fraude según el género')\n",
    "plt.xlabel('Género')\n",
    "plt.ylabel('Frecuencia de Fraude')"
   ]
  },
  {
   "cell_type": "markdown",
   "metadata": {},
   "source": [
    "#### Observaciones:"
   ]
  },
  {
   "cell_type": "markdown",
   "metadata": {},
   "source": [
    "* el género no es un buen predictor del fraude."
   ]
  },
  {
   "cell_type": "markdown",
   "metadata": {},
   "source": [
    "### ► edad •"
   ]
  },
  {
   "cell_type": "code",
   "execution_count": 93,
   "metadata": {},
   "outputs": [
    {
     "data": {
      "text/plain": [
       "Text(0, 0.5, 'Frecuencia de Fraude')"
      ]
     },
     "execution_count": 93,
     "metadata": {},
     "output_type": "execute_result"
    },
    {
     "data": {
      "image/png": "[encoded data removed]",
      "text/plain": [
       "<Figure size 432x288 with 1 Axes>"
      ]
     },
     "metadata": {
      "needs_background": "light"
     },
     "output_type": "display_data"
    }
   ],
   "source": [
    "pd.crosstab(data.edad[20:80], data.target).plot(kind='bar')\n",
    "plt.title('Frecuencia de fraude según la edad')\n",
    "plt.xlabel('Edad')\n",
    "plt.ylabel('Frecuencia de Fraude')"
   ]
  },
  {
   "cell_type": "code",
   "execution_count": 89,
   "metadata": {},
   "outputs": [
    {
     "data": {
      "text/plain": [
       "Text(0, 0.5, 'Frecuencia fraude')"
      ]
     },
     "execution_count": 89,
     "metadata": {},
     "output_type": "execute_result"
    },
    {
     "data": {
      "image/png": "[encoded data removed]",
      "text/plain": [
       "<Figure size 432x288 with 1 Axes>"
      ]
     },
     "metadata": {
      "needs_background": "light"
     },
     "output_type": "display_data"
    }
   ],
   "source": [
    "data.edad.hist()\n",
    "plt.title('Histograma de edad')\n",
    "plt.xlabel('Edad')\n",
    "plt.ylabel('Frecuencia fraude')"
   ]
  },
  {
   "cell_type": "markdown",
   "metadata": {},
   "source": [
    "#### Observaciones:"
   ]
  },
  {
   "cell_type": "markdown",
   "metadata": {},
   "source": [
    "* La mayoria de edades estan en el rango de 20 a 60 años.\n",
    "* El fraude se concentra en las edades entre 40 y 45 años.\n",
    "* Parece ser un buen predictor de fraude."
   ]
  },
  {
   "cell_type": "markdown",
   "metadata": {},
   "source": [
    "### ► tipo_cotizante •"
   ]
  },
  {
   "cell_type": "code",
   "execution_count": 94,
   "metadata": {},
   "outputs": [
    {
     "data": {
      "text/plain": [
       "Text(0, 0.5, 'Frecuencia de Fraude')"
      ]
     },
     "execution_count": 94,
     "metadata": {},
     "output_type": "execute_result"
    },
    {
     "data": {
      "image/png": "[encoded data removed]",
      "text/plain": [
       "<Figure size 432x288 with 1 Axes>"
      ]
     },
     "metadata": {
      "needs_background": "light"
     },
     "output_type": "display_data"
    }
   ],
   "source": [
    "pd.crosstab(data.tipo_cotizante, data.target).plot(kind='bar')\n",
    "plt.title('Frecuencia de fraude según el tipo de cotizante')\n",
    "plt.xlabel('Tipo de cotizante')\n",
    "plt.ylabel('Frecuencia de Fraude')"
   ]
  },
  {
   "cell_type": "markdown",
   "metadata": {},
   "source": [
    "#### Observaciones:"
   ]
  },
  {
   "cell_type": "markdown",
   "metadata": {},
   "source": [
    "* El tipo de cotizante parace ser un buen predictor de fraude."
   ]
  },
  {
   "cell_type": "markdown",
   "metadata": {},
   "source": [
    "### ► subtipo_cotizante •"
   ]
  },
  {
   "cell_type": "code",
   "execution_count": 95,
   "metadata": {},
   "outputs": [
    {
     "data": {
      "text/plain": [
       "Text(0, 0.5, 'Frecuencia de Fraude')"
      ]
     },
     "execution_count": 95,
     "metadata": {},
     "output_type": "execute_result"
    },
    {
     "data": {
      "image/png": "[encoded data removed]",
      "text/plain": [
       "<Figure size 432x288 with 1 Axes>"
      ]
     },
     "metadata": {
      "needs_background": "light"
     },
     "output_type": "display_data"
    }
   ],
   "source": [
    "pd.crosstab(data.subtipo_cotizante, data.target).plot(kind='bar')\n",
    "plt.title('Frecuencia de fraude según el tipo de cotizante')\n",
    "plt.xlabel('Tipo de cotizante')\n",
    "plt.ylabel('Frecuencia de Fraude')"
   ]
  },
  {
   "cell_type": "markdown",
   "metadata": {},
   "source": [
    "#### Observaciones:"
   ]
  },
  {
   "cell_type": "markdown",
   "metadata": {},
   "source": [
    "* El subtipo de cotizante parace ser un buen predictor de fraude."
   ]
  },
  {
   "cell_type": "markdown",
   "metadata": {},
   "source": [
    "## ✓ Variables finales"
   ]
  },
  {
   "cell_type": "markdown",
   "metadata": {},
   "source": [
    "* tipo_persona\n",
    "* codigo_actividad_economica\n",
    "* subtipo_cotizante\n",
    "* tipo_cotizante\n",
    "* edad\n",
    "* tipo_planilla\n",
    "* clase_riesgo"
   ]
  },
  {
   "cell_type": "markdown",
   "metadata": {},
   "source": [
    "## ✘ Variables desechadas"
   ]
  },
  {
   "cell_type": "markdown",
   "metadata": {},
   "source": [
    "* tipo_identificacion\n",
    "* departamento\n",
    "* municipio\n",
    "* tarifa_pension\n",
    "* aporte_cot_obligatoria_pension\n",
    "* aporte_fsolid_pensional_solidaridad\n",
    "* aporte_fsolid_pensional_subsistencia\n",
    "* aporte_vol_afiliado\n",
    "* cot_vol_aportante\n",
    "* tarifa_salud\n",
    "* cot_obligatoria_salud\n",
    "* valor_upc_adicional\n",
    "* sexodesc"
   ]
  },
  {
   "cell_type": "markdown",
   "metadata": {},
   "source": [
    "### 📌  Importante"
   ]
  },
  {
   "cell_type": "markdown",
   "metadata": {},
   "source": [
    "* Los datos No se encuentran balanceados. el balance es de **9 a 1**. Y no es apropiado entrenar el modelo con los datos así ya que el **rendimiento del modelo** se verá afectado y ya que nuestro objetivo está en detectar la clase minoritaria entonces, será necesaria balancear los datos.\n",
    "\n",
    "* Para balancear los datos se usará la tecnica de **sobre-muestreo aleatorio con reemplazo** para nivelar las clases aumentando los puntos de datos de la clase minoritaria que en este caso es la **clase de fraude.**"
   ]
  },
  {
   "cell_type": "code",
   "execution_count": null,
   "metadata": {},
   "outputs": [],
   "source": []
  }
 ],
 "metadata": {
  "kernelspec": {
   "display_name": "Python 3.7.4 64-bit",
   "language": "python",
   "name": "python37464bit8b628a230ce84c869ab37b98f4f1b3ff"
  },
  "language_info": {
   "codemirror_mode": {
    "name": "ipython",
    "version": 3
   },
   "file_extension": ".py",
   "mimetype": "text/x-python",
   "name": "python",
   "nbconvert_exporter": "python",
   "pygments_lexer": "ipython3",
   "version": "3.7.4"
  }
 },
 "nbformat": 4,
 "nbformat_minor": 2
}
