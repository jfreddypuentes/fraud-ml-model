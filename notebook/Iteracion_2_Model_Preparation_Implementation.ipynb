{
 "cells": [
  {
   "cell_type": "code",
   "execution_count": 1,
   "metadata": {},
   "outputs": [],
   "source": [
    "import pandas as pd\n",
    "from imblearn.over_sampling import SMOTE\n",
    "from sklearn import preprocessing\n",
    "from sklearn.linear_model import LogisticRegression\n",
    "from sklearn.model_selection import train_test_split"
   ]
  },
  {
   "cell_type": "markdown",
   "metadata": {},
   "source": [
    "# 🔨 Preparación del modelo"
   ]
  },
  {
   "cell_type": "code",
   "execution_count": 2,
   "metadata": {},
   "outputs": [
    {
     "name": "stdout",
     "output_type": "stream",
     "text": [
      "(99919, 6)\n",
      "['tipo_persona', 'codigo_actividad_economica', 'tipo_cotizante', 'subtipo_cotizante', 'edad', 'target']\n"
     ]
    }
   ],
   "source": [
    "data = pd.read_csv('datav2.csv', sep=';', header=0)\n",
    "data = data.dropna()\n",
    "print(data.shape)\n",
    "print(list(data.columns))"
   ]
  },
  {
   "cell_type": "markdown",
   "metadata": {},
   "source": [
    "### ✄ Selección de features a usar"
   ]
  },
  {
   "cell_type": "code",
   "execution_count": 3,
   "metadata": {},
   "outputs": [],
   "source": [
    "data_final = data[['tipo_persona', 'codigo_actividad_economica', 'subtipo_cotizante', \n",
    "                   'tipo_cotizante', 'edad', 'target']]\n"
   ]
  },
  {
   "cell_type": "markdown",
   "metadata": {},
   "source": [
    "### ▶ Conversión de datos letras a numeros"
   ]
  },
  {
   "cell_type": "code",
   "execution_count": 4,
   "metadata": {},
   "outputs": [
    {
     "data": {
      "text/plain": [
       "J    75907\n",
       "N    24012\n",
       "Name: tipo_persona, dtype: int64"
      ]
     },
     "execution_count": 4,
     "metadata": {},
     "output_type": "execute_result"
    }
   ],
   "source": [
    "data_final['tipo_persona'].value_counts()"
   ]
  },
  {
   "cell_type": "code",
   "execution_count": 5,
   "metadata": {},
   "outputs": [
    {
     "data": {
      "text/html": [
       "<div>\n",
       "<style scoped>\n",
       "    .dataframe tbody tr th:only-of-type {\n",
       "        vertical-align: middle;\n",
       "    }\n",
       "\n",
       "    .dataframe tbody tr th {\n",
       "        vertical-align: top;\n",
       "    }\n",
       "\n",
       "    .dataframe thead th {\n",
       "        text-align: right;\n",
       "    }\n",
       "</style>\n",
       "<table border=\"1\" class=\"dataframe\">\n",
       "  <thead>\n",
       "    <tr style=\"text-align: right;\">\n",
       "      <th></th>\n",
       "      <th>tipo_persona</th>\n",
       "      <th>codigo_actividad_economica</th>\n",
       "      <th>subtipo_cotizante</th>\n",
       "      <th>tipo_cotizante</th>\n",
       "      <th>edad</th>\n",
       "      <th>target</th>\n",
       "    </tr>\n",
       "  </thead>\n",
       "  <tbody>\n",
       "    <tr>\n",
       "      <th>0</th>\n",
       "      <td>N</td>\n",
       "      <td>7490</td>\n",
       "      <td>0</td>\n",
       "      <td>3</td>\n",
       "      <td>54</td>\n",
       "      <td>0</td>\n",
       "    </tr>\n",
       "    <tr>\n",
       "      <th>1</th>\n",
       "      <td>N</td>\n",
       "      <td>8299</td>\n",
       "      <td>3</td>\n",
       "      <td>3</td>\n",
       "      <td>74</td>\n",
       "      <td>0</td>\n",
       "    </tr>\n",
       "    <tr>\n",
       "      <th>2</th>\n",
       "      <td>1</td>\n",
       "      <td>125</td>\n",
       "      <td>0</td>\n",
       "      <td>1</td>\n",
       "      <td>45</td>\n",
       "      <td>0</td>\n",
       "    </tr>\n",
       "    <tr>\n",
       "      <th>3</th>\n",
       "      <td>N</td>\n",
       "      <td>4290</td>\n",
       "      <td>0</td>\n",
       "      <td>59</td>\n",
       "      <td>40</td>\n",
       "      <td>0</td>\n",
       "    </tr>\n",
       "    <tr>\n",
       "      <th>4</th>\n",
       "      <td>1</td>\n",
       "      <td>6910</td>\n",
       "      <td>0</td>\n",
       "      <td>1</td>\n",
       "      <td>49</td>\n",
       "      <td>0</td>\n",
       "    </tr>\n",
       "  </tbody>\n",
       "</table>\n",
       "</div>"
      ],
      "text/plain": [
       "  tipo_persona  codigo_actividad_economica  subtipo_cotizante  tipo_cotizante  \\\n",
       "0            N                        7490                  0               3   \n",
       "1            N                        8299                  3               3   \n",
       "2            1                         125                  0               1   \n",
       "3            N                        4290                  0              59   \n",
       "4            1                        6910                  0               1   \n",
       "\n",
       "   edad  target  \n",
       "0    54       0  \n",
       "1    74       0  \n",
       "2    45       0  \n",
       "3    40       0  \n",
       "4    49       0  "
      ]
     },
     "execution_count": 5,
     "metadata": {},
     "output_type": "execute_result"
    }
   ],
   "source": [
    "# Juridica = 1\n",
    "data_final.loc[data_final['tipo_persona']== 'J', 'tipo_persona'] = 1\n",
    "data_final.head()"
   ]
  },
  {
   "cell_type": "code",
   "execution_count": 6,
   "metadata": {},
   "outputs": [
    {
     "data": {
      "text/html": [
       "<div>\n",
       "<style scoped>\n",
       "    .dataframe tbody tr th:only-of-type {\n",
       "        vertical-align: middle;\n",
       "    }\n",
       "\n",
       "    .dataframe tbody tr th {\n",
       "        vertical-align: top;\n",
       "    }\n",
       "\n",
       "    .dataframe thead th {\n",
       "        text-align: right;\n",
       "    }\n",
       "</style>\n",
       "<table border=\"1\" class=\"dataframe\">\n",
       "  <thead>\n",
       "    <tr style=\"text-align: right;\">\n",
       "      <th></th>\n",
       "      <th>tipo_persona</th>\n",
       "      <th>codigo_actividad_economica</th>\n",
       "      <th>subtipo_cotizante</th>\n",
       "      <th>tipo_cotizante</th>\n",
       "      <th>edad</th>\n",
       "      <th>target</th>\n",
       "    </tr>\n",
       "  </thead>\n",
       "  <tbody>\n",
       "    <tr>\n",
       "      <th>0</th>\n",
       "      <td>0</td>\n",
       "      <td>7490</td>\n",
       "      <td>0</td>\n",
       "      <td>3</td>\n",
       "      <td>54</td>\n",
       "      <td>0</td>\n",
       "    </tr>\n",
       "    <tr>\n",
       "      <th>1</th>\n",
       "      <td>0</td>\n",
       "      <td>8299</td>\n",
       "      <td>3</td>\n",
       "      <td>3</td>\n",
       "      <td>74</td>\n",
       "      <td>0</td>\n",
       "    </tr>\n",
       "    <tr>\n",
       "      <th>2</th>\n",
       "      <td>1</td>\n",
       "      <td>125</td>\n",
       "      <td>0</td>\n",
       "      <td>1</td>\n",
       "      <td>45</td>\n",
       "      <td>0</td>\n",
       "    </tr>\n",
       "    <tr>\n",
       "      <th>3</th>\n",
       "      <td>0</td>\n",
       "      <td>4290</td>\n",
       "      <td>0</td>\n",
       "      <td>59</td>\n",
       "      <td>40</td>\n",
       "      <td>0</td>\n",
       "    </tr>\n",
       "    <tr>\n",
       "      <th>4</th>\n",
       "      <td>1</td>\n",
       "      <td>6910</td>\n",
       "      <td>0</td>\n",
       "      <td>1</td>\n",
       "      <td>49</td>\n",
       "      <td>0</td>\n",
       "    </tr>\n",
       "  </tbody>\n",
       "</table>\n",
       "</div>"
      ],
      "text/plain": [
       "   tipo_persona  codigo_actividad_economica  subtipo_cotizante  \\\n",
       "0             0                        7490                  0   \n",
       "1             0                        8299                  3   \n",
       "2             1                         125                  0   \n",
       "3             0                        4290                  0   \n",
       "4             1                        6910                  0   \n",
       "\n",
       "   tipo_cotizante  edad  target  \n",
       "0               3    54       0  \n",
       "1               3    74       0  \n",
       "2               1    45       0  \n",
       "3              59    40       0  \n",
       "4               1    49       0  "
      ]
     },
     "execution_count": 6,
     "metadata": {},
     "output_type": "execute_result"
    }
   ],
   "source": [
    "# Natural = 0\n",
    "data_final.loc[data_final['tipo_persona']== 'N', 'tipo_persona'] = 0\n",
    "data_final.head()"
   ]
  },
  {
   "cell_type": "markdown",
   "metadata": {},
   "source": [
    "### ✂ División de datos en entrenamiento y pruebas"
   ]
  },
  {
   "cell_type": "code",
   "execution_count": 7,
   "metadata": {},
   "outputs": [
    {
     "name": "stdout",
     "output_type": "stream",
     "text": [
      "type of y_train: <class 'pandas.core.series.Series'>\n",
      "Número de transactiones en el dataset X_train:  (69943, 5)\n",
      "Número de transactiones en el dataset y_train:  (69943,)\n",
      "Número de transactiones en el dataset X_test:  (29976, 5)\n",
      "Número de transactiones en el dataset y_test:  (29976,)\n"
     ]
    }
   ],
   "source": [
    "from sklearn.model_selection import train_test_split \n",
    "\n",
    "y = data_final.target\n",
    "X = data_final.drop('target', axis=1)\n",
    "\n",
    "# Division de datos en 70:30  \n",
    "X_train, X_test, y_train, y_test = train_test_split(X, y, test_size = 0.3, random_state = 0) \n",
    "print(\"type of y_train:\", type(y_train))\n",
    "print(\"Número de transactiones en el dataset X_train: \", X_train.shape) \n",
    "print(\"Número de transactiones en el dataset y_train: \", y_train.shape) \n",
    "print(\"Número de transactiones en el dataset X_test: \", X_test.shape) \n",
    "print(\"Número de transactiones en el dataset y_test: \", y_test.shape) "
   ]
  },
  {
   "cell_type": "markdown",
   "metadata": {},
   "source": [
    "### ≈ Sobre - Muestreo y balanceo de datos"
   ]
  },
  {
   "cell_type": "markdown",
   "metadata": {},
   "source": [
    "Se generan observaciones sintéticas mediante muestreo aleatorio con reemplazo para balancear los datos."
   ]
  },
  {
   "cell_type": "code",
   "execution_count": 8,
   "metadata": {},
   "outputs": [
    {
     "name": "stdout",
     "output_type": "stream",
     "text": [
      "Antes del sobre-muestreo, contador etiqueta 'Fraude': 5572\n",
      "Antes del sobre-muestreo, contador etiqueta 'No Fraude': 94347 \n",
      "\n",
      "Despues del sobre-muestreo, la forma de x_train es: (132148, 5)\n",
      "Despues del sobre-muestreo, la forma de y_train es: (132148,) \n",
      "\n",
      "Despues del sobre-muestreo, contador etiqueta 'Fraude': 66074\n",
      "Despues del sobre-muestreo, contador etiqueta 'No Fraude': 66074\n"
     ]
    }
   ],
   "source": [
    "print(\"Antes del sobre-muestreo, contador etiqueta 'Fraude': {}\".format(sum(data_final.target == 1))) \n",
    "print(\"Antes del sobre-muestreo, contador etiqueta 'No Fraude': {} \\n\".format(sum(data_final.target  == 0)))\n",
    "\n",
    "from imblearn.over_sampling import SMOTE \n",
    "sm = SMOTE(random_state = 2) \n",
    "X_train_res, y_train_res = sm.fit_sample(X_train, y_train.ravel()) \n",
    "\n",
    "print('Despues del sobre-muestreo, la forma de x_train es: {}'.format(X_train_res.shape)) \n",
    "print('Despues del sobre-muestreo, la forma de y_train es: {} \\n'.format(y_train_res.shape)) \n",
    "print(\"Despues del sobre-muestreo, contador etiqueta 'Fraude': {}\".format(sum(y_train_res == 1))) \n",
    "print(\"Despues del sobre-muestreo, contador etiqueta 'No Fraude': {}\".format(sum(y_train_res == 0)))"
   ]
  },
  {
   "cell_type": "markdown",
   "metadata": {},
   "source": [
    "### ✂ Eliminación recursiva de features (RFE)"
   ]
  },
  {
   "cell_type": "markdown",
   "metadata": {},
   "source": [
    "Dado que ya contamos con un número de features adecuado y que contamos con un nivel de certeza amplio sobre la correlación de las variables e incidencia en nueestra variable objetivo entonces, no realizaremos una elminaci´ñon de features. Algunas de las caracteristicas de los features actiales son:\n",
    "\n",
    "* Las variables son independientes.\n",
    "* Su selección está basada en las reglas de negocio brindadas por el experto.\n",
    "* Tienen alta correlación con el fraude. Se demostró en la etapa de feature engineering."
   ]
  },
  {
   "cell_type": "code",
   "execution_count": 9,
   "metadata": {},
   "outputs": [],
   "source": [
    "columnas_finales = X_train_res.columns\n",
    "os_data_X = pd.DataFrame(data = X_train_res, columns = columnas_finales)\n",
    "os_data_y = pd.DataFrame(data = y_train_res, columns=['target'])\n",
    "X = os_data_X[columnas_finales]\n",
    "y = os_data_y['target']"
   ]
  },
  {
   "cell_type": "markdown",
   "metadata": {},
   "source": [
    "# ✅ Implementación del modelo"
   ]
  },
  {
   "cell_type": "code",
   "execution_count": 10,
   "metadata": {},
   "outputs": [
    {
     "name": "stdout",
     "output_type": "stream",
     "text": [
      "Optimization terminated successfully.\n",
      "         Current function value: 0.205279\n",
      "         Iterations 8\n",
      "                               Results: Logit\n",
      "============================================================================\n",
      "Model:                   Logit               Pseudo R-squared:    0.704     \n",
      "Dependent Variable:      target              AIC:                 54264.3766\n",
      "Date:                    2020-05-25 14:39    BIC:                 54313.3350\n",
      "No. Observations:        132148              Log-Likelihood:      -27127.   \n",
      "Df Model:                4                   LL-Null:             -91598.   \n",
      "Df Residuals:            132143              LLR p-value:         0.0000    \n",
      "Converged:               1.0000              Scale:               1.0000    \n",
      "No. Iterations:          8.0000                                             \n",
      "----------------------------------------------------------------------------\n",
      "                            Coef.  Std.Err.     z     P>|z|   [0.025  0.975]\n",
      "----------------------------------------------------------------------------\n",
      "tipo_persona                0.2707   0.0228   11.8646 0.0000  0.2260  0.3155\n",
      "codigo_actividad_economica -0.0000   0.0000   -1.6318 0.1027 -0.0000  0.0000\n",
      "subtipo_cotizante           1.9158   0.0105  182.2482 0.0000  1.8952  1.9364\n",
      "tipo_cotizante             -0.0411   0.0011  -37.0169 0.0000 -0.0433 -0.0390\n",
      "edad                       -0.0783   0.0007 -106.8851 0.0000 -0.0798 -0.0769\n",
      "============================================================================\n",
      "\n"
     ]
    }
   ],
   "source": [
    "import statsmodels.api as sm\n",
    "\n",
    "logit_model = sm.Logit(y, X)\n",
    "result = logit_model.fit()\n",
    "print(result.summary2())"
   ]
  },
  {
   "cell_type": "code",
   "execution_count": 11,
   "metadata": {},
   "outputs": [
    {
     "name": "stdout",
     "output_type": "stream",
     "text": [
      "                                   0         1\n",
      "tipo_persona                0.226013  0.315462\n",
      "codigo_actividad_economica -0.000013  0.000001\n",
      "subtipo_cotizante           1.895178  1.936384\n",
      "tipo_cotizante             -0.043320 -0.038963\n",
      "edad                       -0.079756 -0.076883\n"
     ]
    }
   ],
   "source": [
    "print(result.conf_int())"
   ]
  },
  {
   "cell_type": "markdown",
   "metadata": {},
   "source": [
    "## 👁 Observaciones"
   ]
  },
  {
   "cell_type": "markdown",
   "metadata": {},
   "source": [
    "* Los **p-valores** para la mayoria de las variables son **menores que 0.05*\n",
    "* Las variables **tipo_planilla** y **clase_riesgo** fueron eliminados. Su p-valor era de **0.4132** y **0.4319** respectivamente."
   ]
  },
  {
   "cell_type": "code",
   "execution_count": 12,
   "metadata": {},
   "outputs": [],
   "source": [
    "columnas_finalesv2 = ['tipo_persona', 'codigo_actividad_economica', 'subtipo_cotizante', 'tipo_cotizante', 'edad']\n",
    "os_data_X_v2 = pd.DataFrame(data = X_train_res, columns = columnas_finalesv2)\n",
    "os_data_y_v2 = pd.DataFrame(data = y_train_res, columns=['target'])\n",
    "X = os_data_X_v2[columnas_finalesv2]\n",
    "y = os_data_y_v2['target']"
   ]
  },
  {
   "cell_type": "code",
   "execution_count": 13,
   "metadata": {},
   "outputs": [
    {
     "name": "stdout",
     "output_type": "stream",
     "text": [
      "Optimization terminated successfully.\n",
      "         Current function value: 0.205279\n",
      "         Iterations 8\n"
     ]
    }
   ],
   "source": [
    "logit_model = sm.Logit(y, X)\n",
    "result = logit_model.fit()"
   ]
  },
  {
   "cell_type": "markdown",
   "metadata": {},
   "source": [
    "## 🤖 Resultado modelo"
   ]
  },
  {
   "cell_type": "code",
   "execution_count": 14,
   "metadata": {},
   "outputs": [
    {
     "name": "stdout",
     "output_type": "stream",
     "text": [
      "                               Results: Logit\n",
      "============================================================================\n",
      "Model:                   Logit               Pseudo R-squared:    0.704     \n",
      "Dependent Variable:      target              AIC:                 54264.3766\n",
      "Date:                    2020-05-25 14:41    BIC:                 54313.3350\n",
      "No. Observations:        132148              Log-Likelihood:      -27127.   \n",
      "Df Model:                4                   LL-Null:             -91598.   \n",
      "Df Residuals:            132143              LLR p-value:         0.0000    \n",
      "Converged:               1.0000              Scale:               1.0000    \n",
      "No. Iterations:          8.0000                                             \n",
      "----------------------------------------------------------------------------\n",
      "                            Coef.  Std.Err.     z     P>|z|   [0.025  0.975]\n",
      "----------------------------------------------------------------------------\n",
      "tipo_persona                0.2707   0.0228   11.8646 0.0000  0.2260  0.3155\n",
      "codigo_actividad_economica -0.0000   0.0000   -1.6318 0.1027 -0.0000  0.0000\n",
      "subtipo_cotizante           1.9158   0.0105  182.2482 0.0000  1.8952  1.9364\n",
      "tipo_cotizante             -0.0411   0.0011  -37.0169 0.0000 -0.0433 -0.0390\n",
      "edad                       -0.0783   0.0007 -106.8851 0.0000 -0.0798 -0.0769\n",
      "============================================================================\n",
      "\n"
     ]
    }
   ],
   "source": [
    "print(result.summary2())"
   ]
  },
  {
   "cell_type": "markdown",
   "metadata": {},
   "source": [
    "## ⏭ Evaluación del modelo"
   ]
  },
  {
   "cell_type": "code",
   "execution_count": 15,
   "metadata": {},
   "outputs": [
    {
     "data": {
      "text/plain": [
       "LogisticRegression(max_iter=1000)"
      ]
     },
     "execution_count": 15,
     "metadata": {},
     "output_type": "execute_result"
    }
   ],
   "source": [
    "from sklearn.linear_model import LogisticRegression\n",
    "from sklearn import metrics\n",
    "\n",
    "X_train, X_test, y_train, y_test = train_test_split(X, y, test_size=0.3, random_state=0)\n",
    "logreg = LogisticRegression(max_iter=1000)\n",
    "logreg.fit(X_train, y_train)"
   ]
  },
  {
   "cell_type": "markdown",
   "metadata": {},
   "source": [
    "#### Presición"
   ]
  },
  {
   "cell_type": "code",
   "execution_count": 17,
   "metadata": {},
   "outputs": [
    {
     "name": "stdout",
     "output_type": "stream",
     "text": [
      "Presición del modelo con datos de prueba: 0.93\n"
     ]
    }
   ],
   "source": [
    "y_pred = logreg.predict(X_test)\n",
    "print('Presición del modelo con datos de prueba: {:.2f}'.format(logreg.score(X_test, y_test)))"
   ]
  },
  {
   "cell_type": "markdown",
   "metadata": {},
   "source": [
    "#### Matriz de confusión"
   ]
  },
  {
   "cell_type": "code",
   "execution_count": 22,
   "metadata": {},
   "outputs": [
    {
     "name": "stdout",
     "output_type": "stream",
     "text": [
      "[[18714  1032]\n",
      " [ 1663 18236]]\n"
     ]
    }
   ],
   "source": [
    "from sklearn.metrics import confusion_matrix\n",
    "confusion_matrix = confusion_matrix(y_test, y_pred)\n",
    "print(confusion_matrix)"
   ]
  },
  {
   "cell_type": "code",
   "execution_count": 23,
   "metadata": {},
   "outputs": [
    {
     "name": "stdout",
     "output_type": "stream",
     "text": [
      "Total predicciones: 39645\n",
      "Predicciones correctas: 36950\n",
      "Predicciones incorrectas: 2695\n"
     ]
    }
   ],
   "source": [
    "print(\"Total predicciones: {}\".format(confusion_matrix[0][0] + confusion_matrix[0][1] + confusion_matrix[1][0] + confusion_matrix[1][1]))\n",
    "print(\"Predicciones correctas: {}\".format(confusion_matrix[0][0] + confusion_matrix[1][1]))\n",
    "print(\"Predicciones incorrectas: {}\".format(confusion_matrix[0][1] + confusion_matrix[1][0]))"
   ]
  },
  {
   "cell_type": "markdown",
   "metadata": {},
   "source": [
    "#### Presición de calculo y tasas"
   ]
  },
  {
   "cell_type": "code",
   "execution_count": 24,
   "metadata": {},
   "outputs": [
    {
     "name": "stdout",
     "output_type": "stream",
     "text": [
      "              precision    recall  f1-score   support\n",
      "\n",
      "           0       0.92      0.95      0.93     19746\n",
      "           1       0.95      0.92      0.93     19899\n",
      "\n",
      "    accuracy                           0.93     39645\n",
      "   macro avg       0.93      0.93      0.93     39645\n",
      "weighted avg       0.93      0.93      0.93     39645\n",
      "\n"
     ]
    }
   ],
   "source": [
    "from sklearn.metrics import classification_report\n",
    "print(classification_report(y_test, y_pred))"
   ]
  },
  {
   "cell_type": "markdown",
   "metadata": {},
   "source": [
    "* Del 100% de los datos de prueba el 92% se clasificaron correctamente."
   ]
  },
  {
   "cell_type": "markdown",
   "metadata": {},
   "source": [
    "### 📈 Umbral de discriminación"
   ]
  },
  {
   "cell_type": "code",
   "execution_count": 26,
   "metadata": {},
   "outputs": [
    {
     "data": {
      "image/png": "[encoded data removed]",
      "text/plain": [
       "<Figure size 432x288 with 1 Axes>"
      ]
     },
     "metadata": {
      "needs_background": "light"
     },
     "output_type": "display_data"
    }
   ],
   "source": [
    "from sklearn.metrics import roc_auc_score\n",
    "from sklearn.metrics import roc_curve\n",
    "import matplotlib.pyplot as plt \n",
    "\n",
    "logit_roc_auc = roc_auc_score(y_test, logreg.predict(X_test))\n",
    "fpr, tpr, thresholds = roc_curve(y_test, logreg.predict_proba(X_test)[:,1])\n",
    "\n",
    "plt.figure()\n",
    "plt.plot(fpr, tpr, label='Regresión Logística (area = %0.2f)' % logit_roc_auc)\n",
    "plt.plot([0, 1], [0, 1],'r--')\n",
    "plt.xlim([0.0, 1.0])\n",
    "plt.ylim([0.0, 1.05])\n",
    "plt.xlabel('Falsos positivos')\n",
    "plt.ylabel('Verdaderos positivos')\n",
    "plt.title('Umbral de discriminación')\n",
    "plt.legend(loc=\"lower right\")\n",
    "plt.show()"
   ]
  },
  {
   "cell_type": "markdown",
   "metadata": {},
   "source": [
    "## 🔢 Coeficientes"
   ]
  },
  {
   "cell_type": "code",
   "execution_count": 27,
   "metadata": {},
   "outputs": [
    {
     "name": "stdout",
     "output_type": "stream",
     "text": [
      "                                   0         1\n",
      "tipo_persona                0.226013  0.315462\n",
      "codigo_actividad_economica -0.000013  0.000001\n",
      "subtipo_cotizante           1.895178  1.936384\n",
      "tipo_cotizante             -0.043320 -0.038963\n",
      "edad                       -0.079756 -0.076883\n"
     ]
    }
   ],
   "source": [
    "print(result.conf_int())"
   ]
  },
  {
   "cell_type": "markdown",
   "metadata": {},
   "source": [
    "## 🔣 Definición matemática"
   ]
  },
  {
   "cell_type": "markdown",
   "metadata": {},
   "source": [
    "Ya tenemos un modelo listo para usar. Pero antes, damos un definición matemática para modelarlo en un lenguaje de programación y desplegarlo en un ambiente productivo.\n",
    "Para este estudio vamos a:\n",
    "* Formular el modelo de forma **matemática.**\n",
    "* Crear y exponer un **servicio web (API)** desde donde pueda **consumir el modelo** mediante peticiones http.\n",
    "* Diseñar y desarrollar una **interfaz gráfica de usuario** que use el modelo de forma transparente para el usuario mediante un formulario.\n",
    "* Realizar simulaciones."
   ]
  },
  {
   "cell_type": "markdown",
   "metadata": {},
   "source": [
    "### Función Sigmoidal"
   ]
  },
  {
   "attachments": {
    "sigmoids.png": {
     "image/png": "[encoded data removed]"
    }
   },
   "cell_type": "markdown",
   "metadata": {},
   "source": [
    "![sigmoids.png](attachment:sigmoids.png)"
   ]
  },
  {
   "cell_type": "markdown",
   "metadata": {},
   "source": [
    "### 🔌 Pruebas Unitarias"
   ]
  },
  {
   "cell_type": "code",
   "execution_count": 4,
   "metadata": {},
   "outputs": [],
   "source": [
    "import math\n",
    "def test_y1(x1, x2, x3, x4, x5):\n",
    "    potencia = 0.315462*x1 + 0.000001*x2 + 1.936384*x3 - 0.038963*x4 - 0.076883*x5 + 0.0351\n",
    "    result = 1 / (1 + math.exp(-(potencia)))\n",
    "    print(\"result1 = \", result)\n",
    "\n",
    "def test_y0(x1, x2, x3, x4, x5):\n",
    "    potencia = 0.226013*x1 - 0.000013*x2 + 1.895178*x3 - 0.043320*x4 - 0.079756*x5 + 0.0351\n",
    "    result = 1 / (1 + math.exp(-(potencia)))\n",
    "    print(\"result2 = \", result)"
   ]
  },
  {
   "cell_type": "code",
   "execution_count": 5,
   "metadata": {},
   "outputs": [
    {
     "name": "stdout",
     "output_type": "stream",
     "text": [
      "result1 =  0.3815496328515203\n",
      "result2 =  0.2568449707158648\n"
     ]
    }
   ],
   "source": [
    "tipo_persona = 1\n",
    "codigo_actividad_economica = 8211\n",
    "subtipo_cotizante = 3\n",
    "tipo_cotizante = 1\n",
    "edad = 86\n",
    "\n",
    "x1, x2, x3, x4, x5 = tipo_persona, codigo_actividad_economica, subtipo_cotizante, tipo_cotizante, edad\n",
    "\n",
    "test_y1(x1, x2, x3, x4, x5)\n",
    "test_y0(x1, x2, x3, x4, x5)"
   ]
  },
  {
   "cell_type": "code",
   "execution_count": null,
   "metadata": {},
   "outputs": [],
   "source": []
  }
 ],
 "metadata": {
  "kernelspec": {
   "display_name": "Python 3",
   "language": "python",
   "name": "python3"
  },
  "language_info": {
   "codemirror_mode": {
    "name": "ipython",
    "version": 3
   },
   "file_extension": ".py",
   "mimetype": "text/x-python",
   "name": "python",
   "nbconvert_exporter": "python",
   "pygments_lexer": "ipython3",
   "version": "3.7.4"
  }
 },
 "nbformat": 4,
 "nbformat_minor": 2
}
